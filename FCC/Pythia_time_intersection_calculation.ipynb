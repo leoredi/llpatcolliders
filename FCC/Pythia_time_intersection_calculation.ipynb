{
 "cells": [
  {
   "cell_type": "code",
   "execution_count": 1,
   "id": "45d005ed-70ec-457b-b817-ae070215a095",
   "metadata": {},
   "outputs": [],
   "source": [
    "import ROOT\n",
    "import numpy as np\n",
    "import scipy\n",
    "import matplotlib.pyplot as plt\n",
    "from array import array"
   ]
  },
  {
   "cell_type": "code",
   "execution_count": 2,
   "id": "db2611ab-e8a0-4978-ab58-e196ad006066",
   "metadata": {},
   "outputs": [],
   "source": [
    "c = 299792458*1e3 ##speed light in mm/sec"
   ]
  },
  {
   "cell_type": "code",
   "execution_count": 3,
   "id": "b386ac7e-1967-4c31-904a-61dc02169584",
   "metadata": {},
   "outputs": [],
   "source": [
    "def intersect_time(rX_mag,X_th,X_ph,q_th,q_ph,radius,length):\n",
    "    if((rX_mag*rX_mag*np.sin(X_th)*np.sin(X_th) >= radius*radius) or (rX_mag*np.cos(X_th) >= length/2) or ((rX_mag*np.cos(X_th)) <= -length/2)): \n",
    "        return -1000\n",
    "    else:\n",
    "        a = c*c*np.sin(q_th)*np.sin(q_th)\n",
    "        b = 2*c*(np.sin(q_th)*np.cos(q_ph)*rX_mag*np.cos(X_ph)*np.sin(X_th)+np.sin(q_th)*np.sin(q_ph)*rX_mag*np.sin(X_ph)*np.sin(X_th))\n",
    "        d = rX_mag*rX_mag*np.sin(X_th)*np.sin(X_th)-radius*radius\n",
    "        t1 = (-b + np.sqrt(b*b-4*a*d))/(2*a)\n",
    "        t2 = (length/2 - rX_mag*np.cos(X_th))/(c*np.cos(q_th))\n",
    "        t3 = (-length/2 - rX_mag*np.cos(X_th))/(c*np.cos(q_th))\n",
    "        return min(t1,max(t2,t3))"
   ]
  },
  {
   "cell_type": "code",
   "execution_count": 19,
   "id": "2486bc01-3b1a-490c-8273-3c26ba1464be",
   "metadata": {},
   "outputs": [],
   "source": [
    "def time_delay(intersect_t,rX_mag,X_th,X_ph,q_th,q_ph,t):\n",
    "    if (intersect_t<0): \n",
    "        return -1000\n",
    "    else:\n",
    "        inter_dist = np.sqrt(rX_mag*rX_mag + intersect_t*intersect_t*c*c + 2*c*intersect_t*(rX_mag*np.cos(X_th)*np.cos(q_th)+rX_mag*np.cos(X_ph)*np.sin(X_th) * np.cos(q_ph)*np.sin(q_th)+rX_mag*np.sin(X_ph)*np.sin(X_th)*np.sin(q_ph)*np.sin(q_th)))\n",
    "        dt = intersect_t + t - inter_dist/c\n",
    "        return dt"
   ]
  },
  {
   "cell_type": "code",
   "execution_count": 5,
   "id": "50f59f58-fa3e-465c-bb9b-fc0595b6414f",
   "metadata": {},
   "outputs": [],
   "source": [
    "file_path = \"../pythia8314/examples/first_attempt_500mm.root\""
   ]
  },
  {
   "cell_type": "code",
   "execution_count": 6,
   "id": "5a72c15b-59ad-4a8a-aea0-b3347e036330",
   "metadata": {},
   "outputs": [
    {
     "data": {
      "text/plain": [
       "1"
      ]
     },
     "execution_count": 6,
     "metadata": {},
     "output_type": "execute_result"
    }
   ],
   "source": [
    "t1=ROOT.TChain(\"t1\")\n",
    "t1.AddFile(file_path)"
   ]
  },
  {
   "cell_type": "code",
   "execution_count": 7,
   "id": "4e884227-19f4-4f43-82f5-4f3502656ee7",
   "metadata": {},
   "outputs": [
    {
     "data": {
      "text/plain": [
       "1"
      ]
     },
     "execution_count": 7,
     "metadata": {},
     "output_type": "execute_result"
    }
   ],
   "source": [
    "t2=ROOT.TChain(\"t1\")\n",
    "t2.AddFile(file_path)"
   ]
  },
  {
   "cell_type": "code",
   "execution_count": 8,
   "id": "36bcca99-5eaf-4196-940c-eea1f34c09d7",
   "metadata": {},
   "outputs": [],
   "source": [
    "ientry = t1.GetEntries()"
   ]
  },
  {
   "cell_type": "code",
   "execution_count": 9,
   "id": "7393f521-f49f-4174-8c8e-e46631ff3c4a",
   "metadata": {},
   "outputs": [],
   "source": [
    "final_higgs_energy = []\n",
    "final_higgs_x = []\n",
    "final_higgs_y = []\n",
    "final_higgs_z = []\n",
    "final_higgs_theta = []\n",
    "final_higgs_phi = []\n",
    "final_higgs_t = []"
   ]
  },
  {
   "cell_type": "code",
   "execution_count": 10,
   "id": "5809f63d-80c1-4c45-abef-79ed686500ac",
   "metadata": {},
   "outputs": [],
   "source": [
    "final_zb_energy = []\n",
    "final_zb_x = []\n",
    "final_zb_y = []\n",
    "final_zb_z = []\n",
    "final_zb_theta = []\n",
    "final_zb_phi = []\n",
    "final_zb_t = []"
   ]
  },
  {
   "cell_type": "code",
   "execution_count": 11,
   "id": "0593c489-063d-4a9c-aae5-79d18d71c029",
   "metadata": {},
   "outputs": [],
   "source": [
    "for jentry in range(0,ientry):\n",
    "    t1.GetEntry(jentry)\n",
    "    if(t1.pid==25):\n",
    "        if(len(t1.MotherList)==1): continue\n",
    "        dl = np.unique(t1.DaughterListRec)\n",
    "        pos = t1.list\n",
    "        for i in range(0,len(dl)):\n",
    "            t2.GetEntry(jentry-pos+int(dl[i]))\n",
    "            if(t2.isFinal==0): continue\n",
    "            final_higgs_energy.append(t2.energy)\n",
    "            final_higgs_x.append(t2.x)\n",
    "            final_higgs_y.append(t2.y)\n",
    "            final_higgs_z.append(t2.z)\n",
    "            final_higgs_theta.append(t2.theta)\n",
    "            final_higgs_phi.append(t2.phi)\n",
    "            final_higgs_t.append(t2.t)\n"
   ]
  },
  {
   "cell_type": "code",
   "execution_count": 12,
   "id": "2cda2c79-ae11-441b-94c0-8edeab5ebcac",
   "metadata": {},
   "outputs": [],
   "source": [
    "for jentry in range(0,ientry):\n",
    "    t1.GetEntry(jentry)\n",
    "    if(t1.pid==23):\n",
    "        if(len(t1.MotherList)==1): continue\n",
    "        dl = np.unique(t1.DaughterListRec)\n",
    "        pos = t1.list\n",
    "        for i in range(0,len(dl)):\n",
    "            t2.GetEntry(jentry-pos+int(dl[i]))\n",
    "            if(t2.isFinal==0): continue\n",
    "            final_zb_energy.append(t2.energy)\n",
    "            final_zb_x.append(t2.x)\n",
    "            final_zb_y.append(t2.y)\n",
    "            final_zb_z.append(t2.z)\n",
    "            final_zb_theta.append(t2.theta)\n",
    "            final_zb_phi.append(t2.phi)\n",
    "            final_zb_t.append(t2.t)"
   ]
  },
  {
   "cell_type": "code",
   "execution_count": 13,
   "id": "8d5e93de-2319-4e16-bc76-0bba621ee18e",
   "metadata": {},
   "outputs": [],
   "source": [
    "len_higgs = len(final_higgs_x)\n",
    "len_zb = len(final_zb_x)"
   ]
  },
  {
   "cell_type": "code",
   "execution_count": 14,
   "id": "f4ca5b5d-f793-403f-b0d8-8ffae08f0386",
   "metadata": {},
   "outputs": [
    {
     "data": {
      "text/plain": [
       "746728"
      ]
     },
     "execution_count": 14,
     "metadata": {},
     "output_type": "execute_result"
    }
   ],
   "source": [
    "len_zb"
   ]
  },
  {
   "cell_type": "code",
   "execution_count": 15,
   "id": "18bee329-feda-4681-9aed-36f9bbb0a5af",
   "metadata": {},
   "outputs": [],
   "source": [
    "final_higgs_r = []\n",
    "final_higgs_pos_th = []\n",
    "final_higgs_pos_ph = []\n",
    "final_zb_r = []\n",
    "final_zb_pos_th = []\n",
    "final_zb_pos_ph = []"
   ]
  },
  {
   "cell_type": "code",
   "execution_count": 32,
   "id": "448d4b9f-e6dc-4fb1-ab07-f99c4be5e6f7",
   "metadata": {},
   "outputs": [],
   "source": [
    "final_higgs_t_diff=[]\n",
    "final_zb_t_diff=[]"
   ]
  },
  {
   "cell_type": "code",
   "execution_count": 17,
   "id": "a78d786a-a5aa-44e7-986e-390aaaef6fce",
   "metadata": {},
   "outputs": [],
   "source": [
    "for i in range(0,len_higgs):\n",
    "    rad = np.sqrt(final_higgs_x[i]**2+final_higgs_y[i]**2+final_higgs_z[i]**2)\n",
    "    final_higgs_r.append(rad)\n",
    "    final_higgs_pos_th.append(np.acos(final_higgs_z[i]/rad))\n",
    "    final_higgs_pos_ph.append(np.atan2(final_higgs_y[i],final_higgs_x[i]))\n"
   ]
  },
  {
   "cell_type": "code",
   "execution_count": 18,
   "id": "083a90c4-99aa-4c85-b594-79509d0a6508",
   "metadata": {},
   "outputs": [],
   "source": [
    "for i in range(0,len_zb):\n",
    "    rad = np.sqrt(final_zb_x[i]**2+final_zb_y[i]**2+final_zb_z[i]**2)\n",
    "    final_zb_r.append(rad)\n",
    "    final_zb_pos_th.append(np.acos(final_zb_z[i]/rad))\n",
    "    final_zb_pos_ph.append(np.atan2(final_zb_y[i],final_zb_x[i]))\n"
   ]
  },
  {
   "cell_type": "code",
   "execution_count": 21,
   "id": "97095d50-d52a-4830-ae84-1bbddaae052f",
   "metadata": {},
   "outputs": [
    {
     "data": {
      "text/plain": [
       "\u001b[31mSignature:\u001b[39m intersect_time(rX_mag, X_th, X_ph, q_th, q_ph, radius, length)\n",
       "\u001b[31mDocstring:\u001b[39m <no docstring>\n",
       "\u001b[31mFile:\u001b[39m      /var/folders/6m/b8zf0w9j2_q2whjl77mrgq300000gn/T/ipykernel_10864/3753062624.py\n",
       "\u001b[31mType:\u001b[39m      function"
      ]
     },
     "metadata": {},
     "output_type": "display_data"
    }
   ],
   "source": [
    "intersect_time?"
   ]
  },
  {
   "cell_type": "code",
   "execution_count": 25,
   "id": "eb1e530e-6a75-47ff-8691-bc9a52968c50",
   "metadata": {},
   "outputs": [],
   "source": [
    "intersect_t = intersect_time(final_higgs_r[0],final_higgs_pos_th[0],final_higgs_pos_ph[0],final_higgs_theta[0],final_higgs_phi[0],2100,4400)"
   ]
  },
  {
   "cell_type": "code",
   "execution_count": 24,
   "id": "751e7fbe-acfa-47ae-8c7a-eae61299ab7d",
   "metadata": {},
   "outputs": [
    {
     "data": {
      "text/plain": [
       "3.496570224721915e-09"
      ]
     },
     "execution_count": 24,
     "metadata": {},
     "output_type": "execute_result"
    }
   ],
   "source": [
    "final_higgs_t[0]/(c)"
   ]
  },
  {
   "cell_type": "code",
   "execution_count": 31,
   "id": "b977aa92-81dd-4213-b452-27217a6a48a9",
   "metadata": {},
   "outputs": [
    {
     "data": {
      "text/plain": [
       "np.float64(1.6281707720619711e-09)"
      ]
     },
     "execution_count": 31,
     "metadata": {},
     "output_type": "execute_result"
    }
   ],
   "source": [
    "time_delay(intersect_t,final_higgs_r[0],final_higgs_pos_th[0],final_higgs_pos_ph[0],final_higgs_theta[0],final_higgs_phi[0],final_higgs_t[0]/c)"
   ]
  },
  {
   "cell_type": "code",
   "execution_count": 33,
   "id": "978781cb-8fae-49ee-9523-0d831912749e",
   "metadata": {},
   "outputs": [],
   "source": [
    "for i in range(0,len_higgs):\n",
    "    int_t = intersect_time(final_higgs_r[i],final_higgs_pos_th[i],final_higgs_pos_ph[i],final_higgs_theta[i],final_higgs_phi[i],2100,4400)\n",
    "    final_higgs_t_diff.append(time_delay(int_t,final_higgs_r[i],final_higgs_pos_th[i],final_higgs_pos_ph[i],final_higgs_theta[i],final_higgs_phi[i],final_higgs_t[i]/c))\n",
    "    "
   ]
  },
  {
   "cell_type": "code",
   "execution_count": 35,
   "id": "0d4452ce-db55-49c1-a2e4-fea6ff5d2a78",
   "metadata": {},
   "outputs": [],
   "source": [
    "for i in range(0,len_zb):\n",
    "    int_t = intersect_time(final_zb_r[i],final_zb_pos_th[i],final_zb_pos_ph[i],final_zb_theta[i],final_zb_phi[i],2100,4400)\n",
    "    final_zb_t_diff.append(time_delay(int_t,final_zb_r[i],final_zb_pos_th[i],final_zb_pos_ph[i],final_zb_theta[i],final_zb_phi[i],final_zb_t[i]/c))"
   ]
  },
  {
   "cell_type": "code",
   "execution_count": 42,
   "id": "bab56314-c524-49e1-8dc6-63acffb140ba",
   "metadata": {},
   "outputs": [],
   "source": [
    "higgs_t_pass_cut = []\n",
    "zb_t_pass_cut = []"
   ]
  },
  {
   "cell_type": "code",
   "execution_count": 43,
   "id": "3bab8914-2a08-442a-a7d0-3719e47327da",
   "metadata": {},
   "outputs": [],
   "source": [
    "for i in range(0,len_higgs):\n",
    "    if(final_higgs_t_diff[i]<0.): continue\n",
    "    higgs_t_pass_cut.append(final_higgs_t_diff[i]*1e9)"
   ]
  },
  {
   "cell_type": "code",
   "execution_count": 45,
   "id": "cf2cef89-f010-4781-a79e-f04c60b78489",
   "metadata": {},
   "outputs": [],
   "source": [
    "for i in range(0,len_zb):\n",
    "    if(final_zb_t_diff[i]<0.): continue\n",
    "    zb_t_pass_cut.append(final_zb_t_diff[i]*1e9)"
   ]
  },
  {
   "cell_type": "code",
   "execution_count": 48,
   "id": "d2fd028e-9612-427b-a8c4-0e0901c9ef42",
   "metadata": {},
   "outputs": [
    {
     "data": {
      "image/png": "[encoded data removed]",
      "text/plain": [
       "<Figure size 640x480 with 1 Axes>"
      ]
     },
     "metadata": {},
     "output_type": "display_data"
    }
   ],
   "source": [
    "data = [higgs_t_pass_cut,zb_t_pass_cut]\n",
    "colors = [\"blue\",\"red\"]\n",
    "labels = [\"Higgs final product\",\"Z final product\"]\n",
    "plt.hist(data,stacked = True,bins=20,range = [0,5],color = colors, label = labels)\n",
    "plt.title(\"Time Difference Calculated After Detctor Region Cut\")\n",
    "plt.xlabel(\"Time Difference [ns]\")\n",
    "plt.ylabel(\"Events\")\n",
    "plt.legend()\n",
    "plt.savefig(\"time_dif.pdf\")"
   ]
  },
  {
   "cell_type": "code",
   "execution_count": 49,
   "id": "17a4c5e7-f91a-4ca3-a586-fd0889074a5b",
   "metadata": {},
   "outputs": [
    {
     "data": {
      "image/png": "[encoded data removed]",
      "text/plain": [
       "<Figure size 640x480 with 1 Axes>"
      ]
     },
     "metadata": {},
     "output_type": "display_data"
    }
   ],
   "source": [
    "data = [higgs_t_pass_cut,zb_t_pass_cut]\n",
    "colors = [\"blue\",\"red\"]\n",
    "labels = [\"Higgs final product\",\"Z final product\"]\n",
    "plt.hist(data,stacked = True,bins=20,range = [0.1,5],color = colors, label = labels)\n",
    "plt.title(\"Time Difference Calculated After Detctor Region Cut\")\n",
    "plt.xlabel(\"Time Difference [ns]\")\n",
    "plt.ylabel(\"Events\")\n",
    "plt.legend()\n",
    "plt.savefig(\"time_dif_zoomed.pdf\")"
   ]
  },
  {
   "cell_type": "code",
   "execution_count": null,
   "id": "62c431fc-2445-4c74-9920-e873faceebad",
   "metadata": {},
   "outputs": [],
   "source": []
  }
 ],
 "metadata": {
  "kernelspec": {
   "display_name": "Python 3 (ipykernel)",
   "language": "python",
   "name": "python3"
  },
  "language_info": {
   "codemirror_mode": {
    "name": "ipython",
    "version": 3
   },
   "file_extension": ".py",
   "mimetype": "text/x-python",
   "name": "python",
   "nbconvert_exporter": "python",
   "pygments_lexer": "ipython3",
   "version": "3.13.5"
  }
 },
 "nbformat": 4,
 "nbformat_minor": 5
}
